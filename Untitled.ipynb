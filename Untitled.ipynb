{
 "cells": [
  {
   "cell_type": "markdown",
   "id": "d9f6217c-a4f3-42a2-8e78-17f501386f44",
   "metadata": {},
   "source": [
    "<h1>Operator Aritmatika</h1>"
   ]
  },
  {
   "cell_type": "code",
   "execution_count": 1,
   "id": "f1201fc0-ad02-4c00-a733-abf061d63a1f",
   "metadata": {},
   "outputs": [
    {
     "name": "stdout",
     "output_type": "stream",
     "text": [
      "setiap orang akan menerima apel sebanyak: 3.0\n",
      "total apel budi sekarang adalah sebanyak: 20\n"
     ]
    }
   ],
   "source": [
    "jumlahApel = 12\n",
    "jumlahTeman = 4\n",
    "\n",
    "apelPerTeman = jumlahApel / jumlahTeman\n",
    "print(\"setiap orang akan menerima apel sebanyak:\",apelPerTeman)\n",
    "\n",
    "tambahanApel = 8\n",
    "totalApel = jumlahApel + tambahanApel\n",
    "\n",
    "print(\"total apel budi sekarang adalah sebanyak:\",totalApel)"
   ]
  },
  {
   "cell_type": "markdown",
   "id": "3446c057-063a-420f-929f-5e313f0b80c5",
   "metadata": {},
   "source": [
    "<h1>Operator Perbandingan</h1>"
   ]
  },
  {
   "cell_type": "code",
   "execution_count": 2,
   "id": "6da25d0c-d13c-46a3-ba36-d9ad0659a0c4",
   "metadata": {},
   "outputs": [
    {
     "name": "stdout",
     "output_type": "stream",
     "text": [
      "160 = 165 False\n",
      "160 != 165 True\n",
      "160 < 165 True\n",
      "160 > 165 False\n",
      "jadi yang paling tinggi adalah andi sebesar 165 cm\n"
     ]
    }
   ],
   "source": [
    "siti = 160 \n",
    "andi = 165\n",
    "\n",
    "print(siti, \"=\",andi,siti==andi)\n",
    "print(siti, \"!=\",andi,siti!=andi)\n",
    "print(siti, \"<\",andi,siti<andi)\n",
    "print(siti, \">\",andi,siti>andi)\n",
    "\n",
    "print(\"jadi yang paling tinggi adalah andi sebesar\",andi,\"cm\")"
   ]
  },
  {
   "cell_type": "markdown",
   "id": "eea5b39f-36ed-4271-bb1d-d6f61361b5d0",
   "metadata": {},
   "source": [
    "<h1>Oerator Logika</h1>"
   ]
  },
  {
   "cell_type": "code",
   "execution_count": 3,
   "id": "eb4dd654-1f6c-4292-b9f1-950eaa548878",
   "metadata": {},
   "outputs": [
    {
     "name": "stdout",
     "output_type": "stream",
     "text": [
      "apakah budi bisa bermain di luar True\n"
     ]
    }
   ],
   "source": [
    "cuacaCerah = True\n",
    "prSelesai = True\n",
    "\n",
    "bisaBermain = cuacaCerah and prSelesai\n",
    "print(\"apakah budi bisa bermain di luar\",bisaBermain)"
   ]
  },
  {
   "cell_type": "markdown",
   "id": "381daebf-5264-43f9-a06b-0ff570da45ae",
   "metadata": {},
   "source": [
    "<h1>Operator Bitwise</h1>"
   ]
  },
  {
   "cell_type": "code",
   "execution_count": 4,
   "id": "b73eaa23-3469-4ace-b90f-b07849cb7115",
   "metadata": {},
   "outputs": [
    {
     "name": "stdout",
     "output_type": "stream",
     "text": [
      "angka biner dari AND adalah: 0b10\n",
      "angka biner dari OR adalah: 0b111\n",
      "angka biner dari XOR adalah: 0b101\n"
     ]
    }
   ],
   "source": [
    "num1 = 6\n",
    "num2 = 3\n",
    "\n",
    "hasilAnd = num1 & num2\n",
    "print(\"angka biner dari AND adalah:\",bin(hasilAnd))\n",
    "\n",
    "\n",
    "hasilOr = num1 | num2\n",
    "print(\"angka biner dari OR adalah:\",bin(hasilOr))\n",
    "\n",
    "hasilXor = num1 ^ num2\n",
    "print(\"angka biner dari XOR adalah:\",bin(hasilXor))"
   ]
  },
  {
   "cell_type": "markdown",
   "id": "cc26a3eb-6dd7-4e44-b3c9-5a40d3ef6327",
   "metadata": {},
   "source": [
    "<h1>Operator Penugasan</h1>"
   ]
  },
  {
   "cell_type": "code",
   "execution_count": 5,
   "id": "0d7ea016-39eb-4916-8900-fbea48e8806f",
   "metadata": {},
   "outputs": [
    {
     "name": "stdout",
     "output_type": "stream",
     "text": [
      "uangAwal 50000\n",
      "setelah di tambah 20000 = 70000\n",
      "dia membeli paket internet sebesar 30000 = 40000\n"
     ]
    }
   ],
   "source": [
    "uangAwal = 50000\n",
    "print(\"uangAwal\",uangAwal)\n",
    "uangAwal += 20000\n",
    "print(\"setelah di tambah 20000 =\",uangAwal)\n",
    "uangAwal -= 30000\n",
    "print(\"dia membeli paket internet sebesar 30000 =\",uangAwal)"
   ]
  },
  {
   "cell_type": "markdown",
   "id": "8e2c7a5a-d460-46e9-8cb0-e658fdd05995",
   "metadata": {},
   "source": [
    "<h1>Operator Keanggotaan</h1>"
   ]
  },
  {
   "cell_type": "code",
   "execution_count": 6,
   "id": "f739162e-63ad-4505-9b6b-dd81cf9c57e1",
   "metadata": {},
   "outputs": [
    {
     "name": "stdout",
     "output_type": "stream",
     "text": [
      "apakah terdaftar? False\n",
      "apakah kata pyhton ada di kalimat True\n"
     ]
    }
   ],
   "source": [
    "name = \"eka\"\n",
    "daftarPesertaLomba = [\"andi\",\"budi\",\"citra\",\"dewi\"]\n",
    "hasil = name in daftarPesertaLomba\n",
    "print(\"apakah terdaftar?\",hasil)\n",
    "\n",
    "kalimat = \"saya suka belajar bahasa pyhton\"\n",
    "kataYangDiCari = \"pyhton\"\n",
    "hasil = kataYangDiCari in kalimat\n",
    "print(\"apakah kata\",kataYangDiCari,\"ada di kalimat\",hasil)"
   ]
  },
  {
   "cell_type": "markdown",
   "id": "a5f772c4-ad12-4b3a-b139-5097095dc811",
   "metadata": {},
   "source": [
    "<h1>Operator Identitas</h1>"
   ]
  },
  {
   "cell_type": "code",
   "execution_count": 7,
   "id": "6d2e00a3-084a-4b17-b93f-dcdbf06e7813",
   "metadata": {},
   "outputs": [
    {
     "name": "stdout",
     "output_type": "stream",
     "text": [
      "apakah x dan y mengacu pada objek yang sama? True\n",
      "apakah a dan b mengacu pada objek yang sama? True\n",
      "apakah list1 dan list2 mengacu pada objek yang sama? False\n"
     ]
    }
   ],
   "source": [
    "x = 20\n",
    "y = 20\n",
    "\n",
    "hasil = x is y\n",
    "print(\"apakah x dan y mengacu pada objek yang sama?\",hasil)\n",
    "\n",
    "a = \"sayang\"\n",
    "b = \"sayang\"\n",
    "\n",
    "hasil = a is b\n",
    "print(\"apakah a dan b mengacu pada objek yang sama?\",hasil)\n",
    "\n",
    "list1 = [\"12\",\"13\",\"14\"]\n",
    "list2 = [\"12\",\"13\",\"14\"]\n",
    "\n",
    "hasil = list1 is list2\n",
    "print(\"apakah list1 dan list2 mengacu pada objek yang sama?\",hasil)"
   ]
  },
  {
   "cell_type": "markdown",
   "id": "fc640ace-51d7-4682-af6f-71d607018986",
   "metadata": {},
   "source": [
    "<h1>Operator Ternary</h1>"
   ]
  },
  {
   "cell_type": "code",
   "execution_count": 9,
   "id": "cd96a1a4-d31b-4efe-986f-3d75c1d376d2",
   "metadata": {},
   "outputs": [
    {
     "name": "stdout",
     "output_type": "stream",
     "text": [
      "Lebih besar dari 100\n",
      "Tidak lebih besar dari 100\n"
     ]
    },
    {
     "name": "stdin",
     "output_type": "stream",
     "text": [
      "isi nilai 100\n"
     ]
    },
    {
     "name": "stdout",
     "output_type": "stream",
     "text": [
      "Lulus\n"
     ]
    },
    {
     "name": "stdin",
     "output_type": "stream",
     "text": [
      "isi nilai 10\n"
     ]
    },
    {
     "name": "stdout",
     "output_type": "stream",
     "text": [
      "Tidak Lulus\n"
     ]
    }
   ],
   "source": [
    "angka = 150\n",
    "hasil = (\"Tidak lebih besar dari 100\", \"Lebih besar dari 100\")[angka > 100]\n",
    "print(hasil)\n",
    "\n",
    "angka2 = 50\n",
    "hasil2 = (\"Tidak lebih besar dari 100\", \"Lebih besar dari 100\")[angka2 > 100]\n",
    "print(hasil2)\n",
    "\n",
    "nilai_ujian = int(input(\"isi nilai\"))\n",
    "status = (\"Tidak Lulus\", \"Lulus\")[nilai_ujian > 70]\n",
    "print(status)\n",
    "\n",
    "nilai_ujian2 = int(input(\"isi nilai\"))\n",
    "status2 = (\"Tidak Lulus\", \"Lulus\")[nilai_ujian2 > 70]\n",
    "print(status2)"
   ]
  },
  {
   "cell_type": "code",
   "execution_count": 10,
   "id": "ee5bcf47-ac15-4178-af71-c8444fa3e63a",
   "metadata": {},
   "outputs": [
    {
     "name": "stdout",
     "output_type": "stream",
     "text": [
      "Lebih besar dari 100\n",
      "Tidak lebih besar dari 100\n"
     ]
    },
    {
     "name": "stdin",
     "output_type": "stream",
     "text": [
      "isi nilai 100\n"
     ]
    },
    {
     "name": "stdout",
     "output_type": "stream",
     "text": [
      "Lulus\n"
     ]
    },
    {
     "name": "stdin",
     "output_type": "stream",
     "text": [
      "isi nilai 10\n"
     ]
    },
    {
     "name": "stdout",
     "output_type": "stream",
     "text": [
      "Tidak Lulus\n"
     ]
    }
   ],
   "source": [
    "angka = 150\n",
    "hasil = \"Lebih besar dari 100\" if angka > 100 else \"Tidak lebih besar dari 100\"\n",
    "print(hasil)\n",
    "\n",
    "angka2 = 50\n",
    "hasil2 = \"Lebih besar dari 100\" if angka2 > 100 else \"Tidak lebih besar dari 100\"\n",
    "print(hasil2)\n",
    "\n",
    "nilai_ujian = int(input(\"isi nilai\"))\n",
    "status = \"Lulus\" if nilai_ujian > 70 else \"Tidak Lulus\"\n",
    "print(status)\n",
    "\n",
    "nilai_ujian2 = int(input(\"isi nilai\"))\n",
    "status2 = \"Lulus\" if nilai_ujian2 > 70 else \"Tidak Lulus\"\n",
    "print(status2)"
   ]
  },
  {
   "cell_type": "code",
   "execution_count": null,
   "id": "e99d71ab-44a6-40fa-95be-78c90d523a88",
   "metadata": {},
   "outputs": [],
   "source": []
  }
 ],
 "metadata": {
  "kernelspec": {
   "display_name": "Python 3 (ipykernel)",
   "language": "python",
   "name": "python3"
  },
  "language_info": {
   "codemirror_mode": {
    "name": "ipython",
    "version": 3
   },
   "file_extension": ".py",
   "mimetype": "text/x-python",
   "name": "python",
   "nbconvert_exporter": "python",
   "pygments_lexer": "ipython3",
   "version": "3.12.7"
  }
 },
 "nbformat": 4,
 "nbformat_minor": 5
}
